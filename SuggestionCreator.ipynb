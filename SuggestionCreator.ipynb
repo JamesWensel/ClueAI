{
  "nbformat": 4,
  "nbformat_minor": 0,
  "metadata": {
    "colab": {
      "name": "SuggestionCreator.ipynb",
      "provenance": []
    },
    "kernelspec": {
      "name": "python3",
      "display_name": "Python 3"
    }
  },
  "cells": [
    {
      "cell_type": "code",
      "metadata": {
        "colab": {
          "base_uri": "https://localhost:8080/"
        },
        "id": "hGti7lyqfL72",
        "outputId": "538f34ff-f748-4a89-c559-12aac54bfabf"
      },
      "source": [
        "import random \n",
        "flip = random.randint(0,1)\n",
        "print(flip)"
      ],
      "execution_count": null,
      "outputs": [
        {
          "output_type": "stream",
          "text": [
            "1\n"
          ],
          "name": "stdout"
        }
      ]
    },
    {
      "cell_type": "code",
      "metadata": {
        "id": "uRfABnqghYkE"
      },
      "source": [
        "class CreateSuggestion():\n",
        "  def __init__(self, cards=[]):\n",
        "    self.people = ['Rev Green', 'Colonel Mustard', 'Professor Plum', 'Mrs. Peacock',\n",
        "      'Miss Scarlett', 'Mrs. White']\n",
        "    self.weapons = ['Candlestick', 'Dagger', 'Lead Pipe', 'Revolver',\n",
        "      'Rope', 'Wrench']\n",
        "    self.rooms = ['Ballroom', 'Billiard Room', 'Conservatory', 'Dining Room',\n",
        "      'Hall', 'Kitchen', 'Library', 'Lounge', 'Study']\n",
        "\n",
        "    self.personKnown = False\n",
        "    self.weaponKnown = False\n",
        "    self.roomKnown = False\n",
        "\n",
        "    self.cards_and_center = {\n",
        "        'People': [],\n",
        "        'Weapons': []\n",
        "    }\n",
        "\n",
        "    for i in cards: \n",
        "      if i in self.people: \n",
        "        self.options['People'] += [i]\n",
        "      elif i in self.weapons:\n",
        "        self.options['Weapons'] += [i]\n",
        "    \n",
        "  def generate_suggestion(self, room, known, dontHave, unknown, unsolved):\n",
        "    for i in known['Center']:\n",
        "      if i in self.people:\n",
        "        self.personKnown = True\n",
        "      elif i in self.weapons:\n",
        "        self.weaponKnown = True\n",
        "      elif i in self.rooms:\n",
        "        self.roomKnown = True\n",
        "   \n",
        "    scores = {}\n",
        "\n",
        "    for cur in unknown:\n",
        "      if cur in self.rooms:\n",
        "        continue\n",
        "      temp = 0\n",
        "      for j in dontHave:\n",
        "        if cur in dontHave[j]:\n",
        "          temp += 1\n",
        "      for j in unsolved: \n",
        "        if cur in unsolved[j]['suggestion']:\n",
        "          temp += 1\n",
        "      scores[cur] = temp\n",
        "    \n",
        "    per = unknown[0]\n",
        "    pscore = 0\n",
        "    weap = unknown[0]\n",
        "    wscore = 0\n",
        "\n",
        "    for i in scores:\n",
        "      if i in self.people and scores[i] > pscore:\n",
        "        per = i\n",
        "        pscore = scores[i]\n",
        "      elif i in self.weapons and scores[i] > wscore:\n",
        "        weap = i\n",
        "        wscore = scores[i]\n",
        "\n",
        "    for i in unknown: \n",
        "      if i in self.people and pscore == 0:\n",
        "        per = i\n",
        "      elif i in self.weapons and wscore == 0:\n",
        "        weap = i\n",
        "    \n",
        "    if room not in known and not self.roomKnown: \n",
        "      if self.personKnown or not self.weaponKnown and pscore < wscore and len(self.cards_and_center['People']) > 0:\n",
        "        per = self.cards_and_center['People'][0]\n",
        "      if self.weaponKnown or not self.personKnown and pscore >= wscore and len(self.cards_and_center['Weapons']) > 0:\n",
        "        weap = self.cards_and_center['Weapons'][0]\n",
        "    \n",
        "    return [per, weap, room]\n",
        "\n",
        "    def card_to_show(self, sug):\n",
        "      \n",
        "\n"
      ],
      "execution_count": null,
      "outputs": []
    },
    {
      "cell_type": "code",
      "metadata": {
        "id": "EswvIcroZii4"
      },
      "source": [
        ""
      ],
      "execution_count": null,
      "outputs": []
    }
  ]
}