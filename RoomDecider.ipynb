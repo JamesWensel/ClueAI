{
  "nbformat": 4,
  "nbformat_minor": 0,
  "metadata": {
    "colab": {
      "name": "RoomDecider.ipynb",
      "provenance": []
    },
    "kernelspec": {
      "name": "python3",
      "display_name": "Python 3"
    }
  },
  "cells": [
    {
      "cell_type": "code",
      "metadata": {
        "id": "VEmKkpfNZ6LK"
      },
      "source": [
        "class RoomDecider():\n",
        "  def __init__(self, cards=[]):\n",
        "    self.people = ['Rev Green', 'Colonel Mustard', 'Professor Plum', 'Mrs. Peacock',\n",
        "      'Miss Scarlett', 'Mrs. White']\n",
        "    self.weapons = ['Candlestick', 'Dagger', 'Lead Pipe', 'Revolver',\n",
        "      'Rope', 'Wrench']\n",
        "    self.rooms = ['Ballroom', 'Billiard Room', 'Conservatory', 'Dining Room',\n",
        "      'Hall', 'Kitchen', 'Library', 'Lounge', 'Study']\n",
        "    self.neighbors = {\n",
        "        'Ballroom': ['Conservatory', 'Billiard Room', 'Dining Room', 'Kitchen'],\n",
        "        'Billiard Room': ['Library', 'Conservatory', 'Ballroom'],\n",
        "        'Conservatory': ['Ballroom', 'Billiard Room'],\n",
        "        'Dining Room': ['Lounge', 'Ballroom', 'Hall'],\n",
        "        'Hall': ['Study', 'Library', 'Dining Room', 'Lounge'],\n",
        "        'Kitchen': ['Ballroom'],\n",
        "        'Library': ['Billiard Room', 'Study', 'Hall'],\n",
        "        'Lounge': ['Dining Room', 'Hall'],\n",
        "        'Study': ['Hall', 'Library']\n",
        "    }\n",
        "    self.secret_passages = {\n",
        "        'Conservatory': 'Lounge',\n",
        "        'Lounge': 'Conservatory',\n",
        "        'Kitchen': 'Study',\n",
        "        'Study': 'Kitchen'\n",
        "    }\n",
        "\n",
        "    self.previous_room = 'None'\n",
        "\n",
        "    self.known = []\n",
        "    self.options = []\n",
        "\n",
        "    for i in cards:\n",
        "      if i in self.rooms:\n",
        "        self.known += [i]\n",
        "        self.options += [i]\n",
        "    \n",
        "    def nextRoom(currentRoom, madeSuggestion, roomKnown):\n",
        "\n",
        "      if not madeSuggestion and (roomKnown and currentRoom in options or not roomKnown):\n",
        "        return currentRoom\n",
        "      \n",
        "      for i in self.neighbors[currentRoom]:\n",
        "        if roomKnown and i in options or not i in known or i in secret_passages\n",
        "           and not secret_passages[i] in known:\n",
        "          return i\n",
        "      \n",
        "      if next = self.previous_room: \n",
        "        next = sellf.neighbors[currentRoom][1]\n",
        "\n",
        "      self.previous_room = currentRoom\n",
        "        return next"
      ],
      "execution_count": null,
      "outputs": []
    },
    {
      "cell_type": "code",
      "metadata": {
        "id": "bpQ6Fl1zJPUV"
      },
      "source": [
        ""
      ],
      "execution_count": null,
      "outputs": []
    }
  ]
}